{
 "nbformat": 4,
 "nbformat_minor": 0,
 "metadata": {
  "colab": {
   "provenance": []
  },
  "kernelspec": {
   "name": "python3",
   "language": "python",
   "display_name": "Python 3 (ipykernel)"
  },
  "language_info": {
   "name": "python"
  }
 },
 "cells": [
  {
   "cell_type": "markdown",
   "source": [
    "# **Part of Speech Tagging using Hidden Markov Models**\n",
    "\n",
    "\n",
    "\n",
    "In this assignment, you are asked to train your **OWN** Hidden Markov Model to predict part of speech tags of words. Steps to the assignment:\n",
    "1. Download the data from this link - both the web.conllu and wiki.conllu: https://github.com/google-research-datasets/turkish-treebanks/tree/master/data\n",
    "1. We combined the web and the wiki to have a bigger dataset. Split this dataset (*sentences*) into train/test sets with 0.8/0.2 proportions. Select a random state number and use it consistently to get the same sets while iterating. **This is very important!**\n",
    "1. Calculate the transition and emission probabilities using the Maximum Likelihood Estimation (MLE). You can use smoothing for transition and emission probabilities.\n",
    "1. Train two HMMs with two sets of Part-of-Speech tags.\n",
    "\n",
    "  a. All of the POS tags in the dataset. There are 14 POS tags in the dataset.\n",
    "\n",
    "  b. Only the tags \"ADJ, ADV, NOUN, VERB, PUNC\"\n",
    "1. Add the \"\\<START>\" and \"\\<END>\" tags for calculating the induction and ending probabilities.\n",
    "1. Predict the tags for the test set using Viterbi algorithm with the trained HMM.\n",
    "1. Evaluate the prediction with the gold labels. Show confusion matrix for the tags.\n",
    "1. Compare the two versions of the HMMs in terms of accuracy and F1 score - all tags version, only \"ADJ, ADV, NOUN, VERB, PUNC\" version.\n",
    "1. Write a small report on your approaches and results.\n",
    "\n",
    "\n",
    "## Rules\n",
    "### Allowed:\n",
    " - Use any libraries for anything **other than the HMM training and prediction**.\n",
    " - Use strategies to increase the performance like handling unknown or rare words, using a dictionary of open/closed words for prediction, changing smoothing functions, and others.\n",
    " - Adding additional coding blocks\n",
    "\n",
    "### Not allowed:\n",
    " - **You need to write your own HMM.** Using the HMM model from an external library is not allowed.\n",
    "\n",
    "## Assignment Report\n",
    "Please write a short assignment report at the end of the notebook (max 500 words). Please include all of the following points in the report:\n",
    " - Data preparation method\n",
    " - How did you calculate of MLE probabilities for transition and emission matrices?\n",
    " - Challenges you have faced while writing the HMM model and challenges with the specific dataset\n",
    " - Comments about the performance of your HMM tagger\n",
    " - Limitations of your approach\n",
    " - Possible improvements to the system\n",
    "\n",
    "## Grading\n",
    "You will be graded with the following criteria:\n",
    " - running complete code (0.5),\n",
    " - clear commenting (0.5),\n",
    " - data preparation (0.5),\n",
    " - HMM transition and emission probability calculation (2)\n",
    " - POS tagging the test data with trained HMM using Viterbi algorithm (2)\n",
    " - Evaluation of the performance of HMM POS tagger (1)\n",
    " - assignment report (1).\n",
    "\n",
    "Total points for this assignment = 7.5\n",
    "\n",
    "You can get bonus points (maximum 0.5) by trying extra methods to improve the performance of the HMM model.\n",
    "\n",
    "## Submission\n",
    "\n",
    "Submission will be made to SUCourse. Please submit your file using the following naming convention.\n",
    "\n",
    "\n",
    "`studentid_studentname_hmm_tagger.ipynb  - ex. 26744_aysegulrana_hmm_tagger.ipynb`\n",
    "\n",
    "\n",
    "**Deadline is December 26th, 23.55pm.**\n"
   ],
   "metadata": {
    "id": "GON_gOpjqL6G"
   }
  },
  {
   "cell_type": "code",
   "source": [
    "def read_conll(file_path):\n",
    "    sentences = []\n",
    "    sentence = []\n",
    "\n",
    "    with open(file_path, 'r', encoding='utf-8') as f:\n",
    "        for line in f:\n",
    "            line = line.strip()\n",
    "\n",
    "            # Skip metadata lines starting with \"#\"\n",
    "            if line.startswith(\"#\"):\n",
    "                continue\n",
    "\n",
    "            # Sentence boundary (blank line)\n",
    "            if not line:\n",
    "                if sentence:\n",
    "                    sentences.append(sentence)\n",
    "                    sentence = []\n",
    "            else:\n",
    "                # Split the line into columns and extract word and POS tag\n",
    "                columns = line.split('\\t')\n",
    "                if len(columns) > 3:  # Check to ensure the line has expected columns\n",
    "                    word = columns[2]\n",
    "                    if word == '_':\n",
    "                      continue\n",
    "\n",
    "                    pos_tag = columns[3]\n",
    "                    sentence.append((word, pos_tag))\n",
    "\n",
    "        # Add the last sentence if the file doesn't end with a blank line\n",
    "        if sentence:\n",
    "            sentences.append(sentence)\n",
    "\n",
    "    return sentences\n",
    "\n",
    "# Usage\n",
    "web_file_path = \"Files/web.conllu\"\n",
    "wiki_file_path = \"Files/wiki.conllu\"\n",
    "\n",
    "web_sentences = read_conll(web_file_path)\n",
    "wiki_sentences = read_conll(wiki_file_path)\n",
    "\n",
    "sentences = web_sentences + wiki_sentences"
   ],
   "metadata": {
    "id": "9bOEe3N9mtci",
    "ExecuteTime": {
     "end_time": "2024-12-27T11:41:34.954629Z",
     "start_time": "2024-12-27T11:41:34.889180Z"
    }
   },
   "execution_count": 1,
   "outputs": []
  },
  {
   "cell_type": "code",
   "source": [
    "print(f\"There are {len(sentences)} sentences in total.\")"
   ],
   "metadata": {
    "id": "4lma0qsepacW",
    "ExecuteTime": {
     "end_time": "2024-12-27T12:15:38.280905Z",
     "start_time": "2024-12-27T12:15:38.258400Z"
    }
   },
   "execution_count": 22,
   "outputs": [
    {
     "name": "stdout",
     "output_type": "stream",
     "text": [
      "There are 4851 sentences in total.\n"
     ]
    }
   ]
  },
  {
   "cell_type": "markdown",
   "source": [
    "## 1. Preprocessing function"
   ],
   "metadata": {
    "id": "-2Es7c7EH7wg"
   }
  },
  {
   "cell_type": "markdown",
   "source": [
    "Investigate the sentences first"
   ],
   "metadata": {
    "collapsed": false
   }
  },
  {
   "cell_type": "code",
   "execution_count": 23,
   "outputs": [
    {
     "name": "stdout",
     "output_type": "stream",
     "text": [
      "[('', '<START>'), ('bur', 'PRON'), ('da', 'PRT'), ('öyle', 'VERB'), ('yoksa', 'CONJ'), ('kilo', 'VERB'), ('mı', 'PRT'), ('', '<END>'), ('?', 'PUNCT')]\n",
      "\n",
      "[('açık', 'NOUN'), ('soru', 'NOUN'), ('müfredat', 'NOUN'), ('uygun', 'ADJ'), ('ol', 'VERB'), ('ol', 'VERB'), ('bil', 'VERB'), ('imkan', 'NOUN'), ('.', 'PUNCT')]\n",
      "\n",
      "[('', '<START>'), ('bakara', 'NOUN'), ('sure', 'NOUN'), ('248', 'NUM'), ('ayet', 'NOUN'), ('açık', 'NOUN'), ('mı', 'VERB'), ('', '<END>'), ('?', 'PUNCT')]\n",
      "\n",
      "[('', '<START>'), ('internet', 'NOUN'), ('araştır', 'VERB'), ('açık', 'NOUN'), ('cevap', 'NOUN'), ('bul', 'VERB'), ('', '<END>'), ('.', 'PUNCT')]\n",
      "\n",
      "[('', '<START>'), ('burun', 'NOUN'), ('kemik', 'NOUN'), ('herhangi', 'DET'), ('bir', 'DET'), ('eğri', 'NOUN'), ('ol', 'VERB'), ('için', 'ADP'), ('kemik', 'NOUN'), ('hiç', 'ADV'), ('dokun', 'VERB'), ('', '<END>'), ('.', 'PUNCT')]\n",
      "\n",
      "[('', '<START>'), ('(', 'PUNCT'), ('kod', 'NOUN'), ('19', 'NUM'), (')', 'PUNCT'), (\"''\", 'PUNCT'), ('şekil', 'NOUN'), ('bir', 'DET'), ('mesaj', 'NOUN'), ('al', 'VERB'), ('', '<END>'), ('.', 'PUNCT')]\n",
      "\n",
      "[('kürtaj', 'NOUN'), ('ve', 'CONJ'), ('komplikasyon', 'NOUN')]\n",
      "\n",
      "[('', '<START>'), ('önce', 'NOUN'), ('derece', 'NOUN'), ('silindir', 'NOUN'), ('belli', 'ADJ'), ('bir', 'DET'), ('miktar', 'NOUN'), ('su', 'NOUN'), ('koy', 'VERB'), ('', '<END>'), ('.', 'PUNCT')]\n",
      "\n",
      "[('', '<START>'), ('gün', 'NOUN'), ('1', 'NUM'), ('-', 'PUNCT'), ('2', 'NUM'), ('öğün', 'NOUN'), (',', 'PUNCT'), ('protein', 'NOUN'), ('bakım', 'ADP'), ('zengin', 'ADJ'), ('yiyecek', 'NOUN'), ('ye', 'VERB'), ('bu', 'DET'), ('miktar', 'NOUN'), ('protein', 'NOUN'), ('al', 'VERB'), ('sağla', 'VERB'), ('', '<END>'), ('.', 'PUNCT')]\n",
      "\n",
      "[('bu', 'DET'), ('konu', 'NOUN'), ('sizler', 'PRON'), ('genel', 'ADJ'), ('işletim', 'NOUN'), ('sistem', 'NOUN'), ('yönetim', 'NOUN'), ('ve', 'CONJ'), ('iyi', 'NOUN'), ('hak', 'ADP'), ('birkaç', 'DET'), ('bilgi', 'NOUN'), ('ilet', 'VERB'), ('.', 'PUNCT')]\n"
     ]
    }
   ],
   "source": [
    "for i, sentence in enumerate(sentences):\n",
    "    while i < 10:\n",
    "        print(f\"{sentence}\\n\")\n",
    "        break\n",
    "    if i == 10:\n",
    "        break"
   ],
   "metadata": {
    "collapsed": false,
    "ExecuteTime": {
     "end_time": "2024-12-27T12:15:55.534123Z",
     "start_time": "2024-12-27T12:15:55.526994Z"
    }
   }
  },
  {
   "cell_type": "code",
   "execution_count": 24,
   "metadata": {
    "id": "evselvW7Bwbq",
    "ExecuteTime": {
     "end_time": "2024-12-27T12:16:05.283120Z",
     "start_time": "2024-12-27T12:16:05.261214Z"
    }
   },
   "outputs": [],
   "source": [
    "def prepare_data(sentences, tag_list):\n",
    "    \n",
    "    prepared_sentences = []\n",
    "        \n",
    "    # Loop through sentences\n",
    "    for sentence in sentences:\n",
    "        \n",
    "        # Set a temp sentence\n",
    "        temp_sentence = []\n",
    "        \n",
    "\n",
    "        \n",
    "        # Loop through word/tag tuples in each sentence\n",
    "        for pair in sentence:\n",
    "            \n",
    "            # Set word and tag\n",
    "            word = pair[0]\n",
    "            tag = pair[1]\n",
    "            \n",
    "            # If tag in our tag list\n",
    "            if tag in tag_list:\n",
    "                \n",
    "                # Keep the sentence\n",
    "                temp_sentence.append(pair)\n",
    "                \n",
    "\n",
    "                \n",
    "        # If sentence is not entirely cleaned (has tags other than <START> and <END>)\n",
    "        if len(temp_sentence) != 0:\n",
    "            \n",
    "            # Add sentence to the list\n",
    "            prepared_sentences.append(temp_sentence)\n",
    "\n",
    "\n",
    "\n",
    "    # Return prepared sentences\n",
    "    return prepared_sentences"
   ]
  },
  {
   "cell_type": "markdown",
   "source": [
    "\n",
    "## 2. Train test split"
   ],
   "metadata": {
    "id": "qfQqtk3IH57J"
   }
  },
  {
   "cell_type": "code",
   "source": [
    "# Import necessary libraries\n",
    "from sklearn.model_selection import train_test_split\n",
    "\n",
    "# Set a tag list for restricted version\n",
    "tag_list = ['ADJ', 'ADV', 'NOUN', 'VERB', 'PUNCT']\n",
    "\n",
    "# Set data for both restricted and all tags version\n",
    "five_tags_data = prepare_data(sentences, tag_list)\n",
    "all_tags_data = sentences\n",
    "\n",
    "# Do train-test split with 80/20 ratio for both\n",
    "five_tags_train, five_tags_test = train_test_split(five_tags_data, test_size=0.2, random_state=28)\n",
    "all_tags_train, all_tags_test = train_test_split(all_tags_data, test_size=0.2, random_state=28)"
   ],
   "metadata": {
    "id": "YaC_RVVMxnCz",
    "ExecuteTime": {
     "end_time": "2024-12-27T12:16:16.793914Z",
     "start_time": "2024-12-27T12:16:16.775389Z"
    }
   },
   "execution_count": 25,
   "outputs": []
  },
  {
   "cell_type": "markdown",
   "source": [
    "## 3. Model Training\n",
    "\n",
    "Train your HMM here."
   ],
   "metadata": {
    "id": "X5B05ac6IIM4"
   }
  },
  {
   "cell_type": "code",
   "source": [
    "def create_HMM(train_sentences):\n",
    "    '''\n",
    "    type train_sentences: list of tuples\n",
    "    param train_sentences: The list of tuples  (word, POS tag) for the training data sentences\n",
    "    rtype: dict\n",
    "    return: the transitions count dictionary between tags\n",
    "    rtype: dict\n",
    "    return: the emissions count dictionary for tags and words\n",
    "    rtype: dict\n",
    "    return: the tag count dictionary for the POS tags\n",
    "    rtype: set\n",
    "    return: the vocabulary of the corpus\n",
    "    '''\n",
    "    \n",
    "    \n",
    "    # Initialize dictionaries for transitions and emissions\n",
    "    transitions = {}\n",
    "    emissions = {}\n",
    "    \n",
    "    # Initialize a dictionary for POS tags\n",
    "    tags = {}\n",
    "    \n",
    "    # Initialize a set for vocabulary\n",
    "    vocab = set()\n",
    "    \n",
    "    # Initialize a word count\n",
    "    word_count = 0\n",
    "    \n",
    "    \n",
    "    # Loop over sentences\n",
    "    for sentence in train_sentences:\n",
    "        \n",
    "        \n",
    "        # Insert start tag\n",
    "        sentence.insert(0, ('', '<START>'))\n",
    "        \n",
    "        # Insert end tag\n",
    "        last_index = len(sentence) - 1\n",
    "        sentence.insert(last_index, ('', '<END>'))\n",
    "        \n",
    "        \n",
    "        # Loop over pairs\n",
    "        for index in range(0, len(sentence) - 1):\n",
    "            \n",
    "            \n",
    "            # ----- WORDS and TAGS -----\n",
    "                        \n",
    "            # Set the current word and tag\n",
    "            current_word = sentence[index][0]\n",
    "            current_tag = sentence[index][1]\n",
    "            \n",
    "            # Increase word count\n",
    "            if current_word != '':\n",
    "                word_count += 1\n",
    "            \n",
    "            # Set the next word and tag\n",
    "            next_word = sentence[index + 1][0]\n",
    "            next_tag = sentence[index + 1][1]\n",
    "            \n",
    "            \n",
    "            # ----- TRANSITIONS -----\n",
    "            \n",
    "            # Add current tag to transitions\n",
    "            if current_tag not in transitions:\n",
    "                transitions[current_tag] = {next_tag: 1}\n",
    "            else:\n",
    "                if next_tag not in transitions[current_tag]:\n",
    "                    transitions[current_tag][next_tag] = 1\n",
    "                else:\n",
    "                    transitions[current_tag][next_tag] += 1\n",
    "                \n",
    "                \n",
    "            # ----- EMISSIONS -----\n",
    "            if current_word != '':\n",
    "                if current_tag not in emissions:\n",
    "                    emissions[current_tag] = {current_word: 1}\n",
    "                else:\n",
    "                    if current_word not in emissions[current_tag]:\n",
    "                        emissions[current_tag][current_word] = 1\n",
    "                    else:\n",
    "                        emissions[current_tag][current_word] += 1\n",
    "            \n",
    "            \n",
    "            # ----- TAGS -----\n",
    "                \n",
    "            # Add tags to tags\n",
    "            if current_tag not in tags.keys():\n",
    "                tags[current_tag] = 1\n",
    "            else:\n",
    "                tags[current_tag] += 1\n",
    "                \n",
    "            \n",
    "            # ----- WORDS -----\n",
    "            if current_word != '':\n",
    "                vocab.add(current_word)\n",
    "    \n",
    "    \n",
    "    return transitions, emissions, tags, vocab, word_count"
   ],
   "metadata": {
    "id": "4gMEapoWq9GM",
    "ExecuteTime": {
     "end_time": "2024-12-27T12:16:45.578116Z",
     "start_time": "2024-12-27T12:16:45.559874Z"
    }
   },
   "execution_count": 27,
   "outputs": []
  },
  {
   "cell_type": "code",
   "source": [
    "# Create HMM for both restricted, 5 tags version and all tags version\n",
    "five_tags_transitions, five_tags_emissions, five_tags_tags, five_tags_vocab, five_tags_word_count = create_HMM(five_tags_train)\n",
    "all_tags_transitions, all_tags_emissions, all_tags_tags, all_tags_vocab, all_tags_word_count = create_HMM(all_tags_train)"
   ],
   "metadata": {
    "id": "eIjSk9Sh6kko",
    "ExecuteTime": {
     "end_time": "2024-12-27T12:16:45.791442Z",
     "start_time": "2024-12-27T12:16:45.785661Z"
    }
   },
   "execution_count": 28,
   "outputs": []
  },
  {
   "cell_type": "markdown",
   "source": [
    "## 4. POS tag prediction for test data\n",
    "\n",
    "Write Viterbi algorithm to predict the POS tags of the test data."
   ],
   "metadata": {
    "id": "V2kvRotSY4V5"
   }
  },
  {
   "cell_type": "code",
   "source": [
    "import numpy as np\n",
    "import math\n",
    "def viterbi(test_sentence, transitions, emissions, tag_counts, word_count):\n",
    "    '''\n",
    "    type test_sentence: list of strings\n",
    "    param test_sentence: list of words in a sentence\n",
    "    type transitions: dict\n",
    "    param: the transitions count dictionary between tags\n",
    "    type emissions: dict\n",
    "    param: the emissions count dictionary for tags and words\n",
    "    type tag_counts: dict\n",
    "    param: the tag count dictionary for the POS tags\n",
    "    type word_count: int\n",
    "    param: the word count of the training corpus\n",
    "    rtype: list\n",
    "    return: the list of predicted tags for the test sentence\n",
    "    '''\n",
    "    \n",
    "    #viterbi matrix for the test sentence. The matrix has +2 in each side since we add\n",
    "    #START and END tags for probability calculation.\n",
    "    v_matrix = np.empty(shape=(len(tag_counts)+2,len(test_sentence)+2))\n",
    "    v_matrix.fill(-1)\n",
    "    v_matrix[0][0] = 0\n",
    "\n",
    "    # fill up the viterbi matrix for each cell, starting with the first word.\n",
    "    # for every word, check each tag's probability of appearing here.\n",
    "    ## iterate over the tags:\n",
    "    ## calculate the best transition probability for the current tag from a previous tag (again iteration of all possible tags)\n",
    "    ## calculate the emission probability of word coming up from the current tag\n",
    "    ## sum them up to get to the best probability of P(tag|word).\n",
    "    ## keep the best path coming to that cell\n",
    "    #after filling up the viterbi matrix, follow the best path back to predict the tags from the final cell.\n",
    "    # in the end you are looking at len(tags)xlen(tags) possibilities for each word\n",
    "\n",
    "\n",
    "    ### WRITE YOUR CODE HERE ###\n",
    "\n",
    "\n",
    "        \n",
    "    # Initialize dictionaries to keep tags and their indices\n",
    "    tag_list = list(tag_counts.keys())\n",
    "    tag_indices = {tag: index for index, tag in enumerate(tag_list)}\n",
    "    \n",
    "    # Set start and end tag's indices\n",
    "    tag_indices['<START>'] = len(tag_list)\n",
    "    tag_indices['<END>'] = len(tag_list) + 1\n",
    "    reversed_tag_indexes = {index: tag for tag, index in tag_indices.items()}\n",
    "    \n",
    "    # Initialize number of tags, and words in sentence\n",
    "    num_tags = len(tag_counts)\n",
    "    num_words = len(test_sentence)\n",
    "    \n",
    "    # Initialize a backpointer\n",
    "    backpointer = [{} for _ in range(num_words + 2)]\n",
    "    \n",
    "    \n",
    "    \n",
    "    # ----- For the <START> tag and first word\n",
    "    \n",
    "    # Loop over tags\n",
    "    for current_tag in tag_counts.keys():\n",
    "        \n",
    "        \n",
    "        # Ensure that current tag is not start or end (we cannot get start after start or end after start\n",
    "        if current_tag not in ['<START>', '<END>']:\n",
    "            \n",
    "            \n",
    "            # Transition probability\n",
    "            total_transition_count = sum(transitions['<START>'].values())\n",
    "            transition_count_to_tag = transitions['<START>'].get(current_tag, 0)\n",
    "            transition_probability = math.log((transition_count_to_tag + 1) / (total_transition_count + len(tag_counts) + 1))\n",
    "    \n",
    "    \n",
    "            # Emission probability\n",
    "            word = test_sentence[0]\n",
    "            total_emission_count = sum(emissions[current_tag].values())\n",
    "            emission_count_to_word = emissions[current_tag].get(word, 0)\n",
    "            emission_probability = math.log((emission_count_to_word + 1) / (total_emission_count + word_count))\n",
    "            \n",
    "            \n",
    "            # Total probability\n",
    "            total_probability = transition_probability + emission_probability\n",
    "            \n",
    "            \n",
    "            # Update the matrix\n",
    "            idx = tag_indices[current_tag]\n",
    "            v_matrix[idx][1] = v_matrix[tag_indices['<START>']][0] + total_probability\n",
    "            \n",
    "            \n",
    "            # Update backpointer\n",
    "            backpointer[1][idx] = tag_indices['<START>']\n",
    "    \n",
    "    \n",
    "    \n",
    "    # ----- For all the other tags except <END>\n",
    "    for i, word in enumerate(test_sentence[1:], 1):\n",
    "        \n",
    "        \n",
    "        # Loop over possible tags for the word\n",
    "        for current_tag in tag_counts.keys():\n",
    "            \n",
    "            \n",
    "            # Ensure that tag is not start or end (these tags do not have a corresponding word)\n",
    "            if current_tag not in ['<START>', '<END>']:\n",
    "                \n",
    "                \n",
    "                # Set tag's index\n",
    "                current_tag_index = tag_indices[current_tag]\n",
    "                \n",
    "                # Set probability and best previous tag's index\n",
    "                max_probability = -np.inf\n",
    "                best_previous_tag_index = None\n",
    "                \n",
    "                \n",
    "                # Loop over all possible previous tags\n",
    "                for previous_tag in tag_counts.keys():\n",
    "                    \n",
    "                    \n",
    "                    # Ensure that tag is not start or end\n",
    "                    if previous_tag not in ['<START>', '<END>']:\n",
    "                        \n",
    "                        \n",
    "                        # Set previous tag's index\n",
    "                        previous_tag_index = tag_indices[previous_tag]\n",
    "                        \n",
    "                        \n",
    "                        # Transition probability\n",
    "                        total_transition_count = sum(transitions[previous_tag].values())\n",
    "                        transition_count_to_tag = transitions[previous_tag].get(current_tag, 0)\n",
    "                        transition_probability = math.log((transition_count_to_tag + 1) / (total_transition_count + len(tag_counts) + 1))\n",
    "                \n",
    "                \n",
    "                        # Emission probability\n",
    "                        total_emission_count = sum(emissions[current_tag].values())\n",
    "                        emission_count_to_word = emissions[current_tag].get(word, 0)\n",
    "                        emission_probability = math.log((emission_count_to_word + 1) / (total_emission_count + word_count))\n",
    "                        \n",
    "                        \n",
    "                        # Calculate total probability\n",
    "                        total_probability = v_matrix[previous_tag_index][i] + transition_probability + emission_probability\n",
    "                        \n",
    "                        \n",
    "                        # Update max probability if necessary\n",
    "                        if total_probability > max_probability:\n",
    "                            max_probability = total_probability\n",
    "                            best_previous_tag_index = previous_tag_index\n",
    "                \n",
    "                \n",
    "                # If we have a best prev tag\n",
    "                if best_previous_tag_index is not None:\n",
    "                    \n",
    "                    \n",
    "                    # Update Viterbi matrix and backpointer\n",
    "                    v_matrix[current_tag_index][i + 1] = max_probability\n",
    "                    backpointer[i + 1][current_tag_index] = best_previous_tag_index\n",
    "    \n",
    "    \n",
    "    \n",
    "    # ----- For the <END> tag\n",
    "    \n",
    "    \n",
    "    # Set max prob and best prev tag\n",
    "    max_probability = -np.inf\n",
    "    best_previous_tag_index = None\n",
    "    \n",
    "    \n",
    "    # Loop over tags\n",
    "    for current_tag in tag_counts.keys():\n",
    "        \n",
    "        \n",
    "        # Ensure that tag is not start or end (cannot have start -> end or end -> end)\n",
    "        if current_tag not in ['<START>', '<END>']:\n",
    "            \n",
    "            \n",
    "            # Set tag's index\n",
    "            current_tag_index = tag_indices[current_tag]\n",
    "            \n",
    "            \n",
    "            # Transition probability\n",
    "            total_transition_count = sum(transitions[current_tag].values())\n",
    "            transition_count_to_end = transitions[current_tag].get('<END>', 0)\n",
    "            transition_probability = math.log((transition_count_to_end + 1) / (total_transition_count + len(tag_counts) + 1))\n",
    "            \n",
    "            \n",
    "            # Total probability\n",
    "            total_probability = v_matrix[current_tag_index][num_words] + transition_probability\n",
    "            \n",
    "            \n",
    "            # Update max probability if necessary\n",
    "            if total_probability > max_probability:\n",
    "                max_probability = total_probability\n",
    "                best_previous_tag_index = current_tag_index\n",
    "    \n",
    "    \n",
    "    \n",
    "    # ----- Do backtracking\n",
    "    \n",
    "    \n",
    "    # Set a list for predicted tags\n",
    "    predicted_tags = [None] * num_words\n",
    "    \n",
    "    # Set current tag's index\n",
    "    current_tag_index = best_previous_tag_index\n",
    "    \n",
    "    \n",
    "    # Loop over words in sentence backwards\n",
    "    for i in range(num_words, 0, -1):\n",
    "        \n",
    "        \n",
    "        # Get the best tag\n",
    "        tag = reversed_tag_indexes[current_tag_index]\n",
    "        \n",
    "        # Add tag to the list\n",
    "        predicted_tags[i-1] = tag\n",
    "        \n",
    "        # Update current tag\n",
    "        current_tag_index = backpointer[i][current_tag_index]\n",
    "    \n",
    "    \n",
    "    \n",
    "    return predicted_tags"
   ],
   "metadata": {
    "id": "xo1ORuDU7KwO",
    "ExecuteTime": {
     "end_time": "2024-12-27T12:17:54.427576Z",
     "start_time": "2024-12-27T12:17:54.415095Z"
    }
   },
   "execution_count": 29,
   "outputs": []
  },
  {
   "cell_type": "markdown",
   "source": [
    "## 5. Evaluate your HMM\n",
    "\n",
    "Use the test data labels and compare to your prediction. Use the accuracy and F1 score as the performance metrics. Show the confusion matrix for the prediction vs gold labels.\n"
   ],
   "metadata": {
    "id": "Ec0gNpt6ZKJc"
   }
  },
  {
   "cell_type": "markdown",
   "source": [
    "### All Tags Version"
   ],
   "metadata": {
    "collapsed": false
   }
  },
  {
   "cell_type": "code",
   "execution_count": 30,
   "outputs": [
    {
     "name": "stdout",
     "output_type": "stream",
     "text": [
      "Accuracy: 0.8548230187832073\n",
      "F1 Score: 0.8379174072661453\n"
     ]
    },
    {
     "data": {
      "text/plain": "<Figure size 1000x800 with 2 Axes>",
      "image/png": "[encoded data removed]"
     },
     "metadata": {},
     "output_type": "display_data"
    }
   ],
   "source": [
    "from sklearn.metrics import accuracy_score, f1_score, confusion_matrix\n",
    "import numpy as np\n",
    "import matplotlib.pyplot as plt\n",
    "import seaborn as sns\n",
    "\n",
    "\n",
    "### WRITE YOUR CODE HERE ###\n",
    "\n",
    "\n",
    "# ----- ALL TAGS VERSION\n",
    "\n",
    "# Initialize lists to store gold tags and predicted tags\n",
    "gold_labels = []\n",
    "predicted_tags = []\n",
    "\n",
    "\n",
    "# Loop over sentences\n",
    "for sentence in all_tags_test:\n",
    "    \n",
    "    \n",
    "    # Set words and gold labels\n",
    "    words = [word for word, _ in sentence]\n",
    "    gold_label = [pos for _, pos in sentence]\n",
    "    \n",
    "    \n",
    "    # Get predictions using the viterbi function\n",
    "    predicted = viterbi(words, all_tags_transitions, all_tags_emissions, all_tags_tags, all_tags_word_count)\n",
    "    \n",
    "    # Add to the lists\n",
    "    gold_labels.extend(gold_label)\n",
    "    predicted_tags.extend(predicted)\n",
    "\n",
    "\n",
    "# Calculate accuracy and f1 scores\n",
    "accuracy = accuracy_score(gold_labels, predicted_tags)\n",
    "f1 = f1_score(gold_labels, predicted_tags, average='weighted')\n",
    "\n",
    "# Do a confusion matrix\n",
    "cm = confusion_matrix(gold_labels, predicted_tags, labels=list(all_tags_tags.keys()))\n",
    "\n",
    "\n",
    "# Print results\n",
    "print(f\"Accuracy: {accuracy}\")\n",
    "print(f\"F1 Score: {f1}\")\n",
    "\n",
    "\n",
    "# Visualize the confusion matrix\n",
    "plt.figure(figsize=(10, 8))\n",
    "sns.heatmap(cm, annot=True, fmt='d', cmap='Blues',\n",
    "            xticklabels=list(all_tags_tags.keys()), yticklabels=list(all_tags_tags.keys()))\n",
    "plt.xlabel(\"Predicted Tags\")\n",
    "plt.ylabel(\"Gold Labels\")\n",
    "plt.title(\"Confusion Matrix\")\n",
    "plt.show()"
   ],
   "metadata": {
    "collapsed": false,
    "ExecuteTime": {
     "end_time": "2024-12-27T12:18:47.242968Z",
     "start_time": "2024-12-27T12:18:38.923352Z"
    }
   }
  },
  {
   "cell_type": "markdown",
   "source": [
    "### Five Tags Version"
   ],
   "metadata": {
    "collapsed": false
   }
  },
  {
   "cell_type": "code",
   "execution_count": 31,
   "outputs": [
    {
     "name": "stdout",
     "output_type": "stream",
     "text": [
      "Accuracy: 0.9106765812907371\n",
      "F1 Score: 0.901664408586575\n",
      "\n",
      "Classification Report:\n"
     ]
    },
    {
     "data": {
      "text/plain": "<Figure size 1000x800 with 2 Axes>",
      "image/png": "[encoded data removed]"
     },
     "metadata": {},
     "output_type": "display_data"
    }
   ],
   "source": [
    "# ----- FIVE TAGS VERSION\n",
    "\n",
    "\n",
    "# Initialize lists to store gold tags and predicted tags\n",
    "gold_labels = []\n",
    "predicted_tags = []\n",
    "\n",
    "\n",
    "# Loop over sentences\n",
    "for sentence in five_tags_test:\n",
    "    \n",
    "    \n",
    "    # Set words and gold labels\n",
    "    words = [word for word, _ in sentence]\n",
    "    gold_label = [pos for _, pos in sentence]\n",
    "    \n",
    "    \n",
    "    # Get predictions using the viterbi function\n",
    "    predicted = viterbi(words, five_tags_transitions, five_tags_emissions, five_tags_tags, five_tags_word_count)\n",
    "    \n",
    "    \n",
    "    # Add to the lists\n",
    "    gold_labels.extend(gold_label)\n",
    "    predicted_tags.extend(predicted)\n",
    "\n",
    "\n",
    "# Calculate accuracy and f1 scores\n",
    "accuracy = accuracy_score(gold_labels, predicted_tags)\n",
    "f1 = f1_score(gold_labels, predicted_tags, average='weighted')\n",
    "\n",
    "# Do a confusion matrix\n",
    "cm = confusion_matrix(gold_labels, predicted_tags, labels=list(five_tags_tags.keys()))\n",
    "\n",
    "\n",
    "# Print results\n",
    "print(f\"Accuracy: {accuracy}\")\n",
    "print(f\"F1 Score: {f1}\")\n",
    "print(\"\\nClassification Report:\")\n",
    "\n",
    "\n",
    "# Visualize the confusion matrix\n",
    "plt.figure(figsize=(10, 8))\n",
    "sns.heatmap(cm, annot=True, fmt='d', cmap='Blues',\n",
    "            xticklabels=list(five_tags_tags.keys()), yticklabels=list(five_tags_tags.keys()))\n",
    "plt.xlabel(\"Predicted Tags\")\n",
    "plt.ylabel(\"Gold Labels\")\n",
    "plt.title(\"Confusion Matrix\")\n",
    "plt.show()"
   ],
   "metadata": {
    "collapsed": false,
    "ExecuteTime": {
     "end_time": "2024-12-27T12:19:13.235401Z",
     "start_time": "2024-12-27T12:19:11.317066Z"
    }
   }
  },
  {
   "cell_type": "markdown",
   "source": [
    "## 6. Explanation"
   ],
   "metadata": {
    "id": "oyE5pu75IOu8"
   }
  },
  {
   "cell_type": "markdown",
   "source": [
    "### 1. Data preparation method\n",
    "In my preprocessing function, what I did was to remove all tags except the provided ones in the tag list. If sentence was left with only <START> and <END> tags, I did not include it."
   ],
   "metadata": {
    "collapsed": false
   }
  },
  {
   "cell_type": "markdown",
   "source": [
    "### 2. How did you calculate of MLE probabilities for transition and emission matrices?\n",
    "#####\n",
    "**For transition probabilities, I thought:**\n",
    "\n",
    "transitions from previous tag to current tag / transitions from previous tag to all tags\n",
    "\n",
    "So, I counted these values. However, since both could be zero, I used smoothing.\n",
    "Then, I took the logarithm of the value to avoid underflow.\n",
    "#####\n",
    "**For emission probabilities, I thought:**\n",
    "\n",
    "emissions from current tag to word / emissions from current tag to all words\n",
    "\n",
    "Again, I counted the values and used smoothing to avoid underflow. Then took the logarithm."
   ],
   "metadata": {
    "collapsed": false
   }
  },
  {
   "cell_type": "markdown",
   "source": [
    "### 3. Challenges you have faced while writing the HMM model and challenges with the specific dataset\n",
    "I did not face a lot of challenges when writing the HMM model. Including <START> and <END> tags were a little bit of a problem since they do not have corresponding words, so wanted to included them in the transition probabilities but not emission probabilities, however, writing the code of it was not problematic.\n",
    "\n",
    "For the dataset, I think the number of tags is just too much. Because of Turkish's structure, words are divided a lot and I think this makes it a lot more complicated. I will continue from this in next part."
   ],
   "metadata": {
    "collapsed": false
   }
  },
  {
   "cell_type": "markdown",
   "source": [
    "### 4. Comments about the performance of your HMM tagger\n",
    "I think it performs good overall. Both have a f1 score > 0.8 and five tags version have an f1 score of 0.9, which was a pleasant surprise for me as I expected lower scores.\n",
    "\n",
    "As I said, words are divided a lot and having lots of tags make the prediction harder because it means less data for every transition and emission overall, that's why five tags performed better I guess."
   ],
   "metadata": {
    "collapsed": false
   }
  },
  {
   "cell_type": "markdown",
   "source": [
    "### 5. Limitations of your approach\n",
    "Unseen words are of course a big problem because the emission probability gets ruined in such case. Also, I am not really proud with my Viterbi implementation, I am not confident if it works correctly and it's probably not really good in terms of computational cost."
   ],
   "metadata": {
    "collapsed": false
   }
  },
  {
   "cell_type": "markdown",
   "source": [
    "### 6. Possible improvements to the system\n",
    "Maybe some other methods could be searched for handling unseen words, and it's computational complexity could be improved."
   ],
   "metadata": {
    "collapsed": false
   }
  },
  {
   "cell_type": "code",
   "execution_count": null,
   "outputs": [],
   "source": [],
   "metadata": {
    "collapsed": false
   }
  }
 ]
}
