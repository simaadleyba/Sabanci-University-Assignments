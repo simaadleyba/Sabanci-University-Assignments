{
  "nbformat": 4,
  "nbformat_minor": 0,
  "metadata": {
    "colab": {
      "provenance": [],
      "authorship_tag": "ABX9TyOk2P3ZcR7PSCR2uvtygOxv",
      "include_colab_link": true
    },
    "kernelspec": {
      "name": "python3",
      "display_name": "Python 3"
    },
    "language_info": {
      "name": "python"
    }
  },
  "cells": [
    {
      "cell_type": "markdown",
      "metadata": {
        "id": "view-in-github",
        "colab_type": "text"
      },
      "source": [
        "<a href=\"https://colab.research.google.com/github/simaadleyba/CS412-Spring-23-24/blob/main/CS412_HW2_SimaAdleyba_Code.ipynb\" target=\"_parent\"><img src=\"https://colab.research.google.com/assets/colab-badge.svg\" alt=\"Open In Colab\"/></a>"
      ]
    },
    {
      "cell_type": "markdown",
      "source": [
        "# Probability and Bayes’ Theorem: Kaggle ML & DS Survey\n"
      ],
      "metadata": {
        "id": "ybzBiuXPGOjp"
      }
    },
    {
      "cell_type": "markdown",
      "source": [
        "### Import necessary libraries, read documents and check contents"
      ],
      "metadata": {
        "id": "TVr-ntntGXff"
      }
    },
    {
      "cell_type": "markdown",
      "source": [
        "Import necessary libraries"
      ],
      "metadata": {
        "id": "31dWI1tUKcJR"
      }
    },
    {
      "cell_type": "code",
      "execution_count": null,
      "metadata": {
        "id": "9hT8ufDUFO11"
      },
      "outputs": [],
      "source": [
        "import numpy as np\n",
        "import pandas as pd\n",
        "import re"
      ]
    },
    {
      "cell_type": "markdown",
      "source": [
        "Read .csv and .txt documents\n"
      ],
      "metadata": {
        "id": "loKmVTQZGfxd"
      }
    },
    {
      "cell_type": "code",
      "source": [
        "respondent_type_readme_path = '/content/RespondentTypeREADME.txt'\n",
        "with open(respondent_type_readme_path, 'r') as file:\n",
        "    respondent_type_readme_content = file.read()\n",
        "\n",
        "conversion_rates_path = '/content/conversionRates.csv'\n",
        "conversion_rates_df = pd.read_csv(conversion_rates_path)\n",
        "\n",
        "freeform_responses_path = '/content/freeformResponses.csv'\n",
        "freeform_responses_df = pd.read_csv(freeform_responses_path)\n",
        "\n",
        "multiple_choice_responses_path = '/content/multipleChoiceResponses.csv'\n",
        "multiple_choice_responses_df = pd.read_csv(multiple_choice_responses_path, encoding='ISO-8859-1')\n",
        "\n",
        "schema_path = '/content/schema.csv'\n",
        "schema_df = pd.read_csv(schema_path)"
      ],
      "metadata": {
        "colab": {
          "base_uri": "https://localhost:8080/"
        },
        "id": "l_KJlLL8G0ID",
        "outputId": "72ffb288-838a-4894-fffb-dc4e290c3291"
      },
      "execution_count": null,
      "outputs": [
        {
          "output_type": "stream",
          "name": "stderr",
          "text": [
            "<ipython-input-2-3c3c7d20a555>:9: DtypeWarning: Columns (5,17,21,38,50) have mixed types. Specify dtype option on import or set low_memory=False.\n",
            "  freeform_responses_df = pd.read_csv(freeform_responses_path)\n",
            "<ipython-input-2-3c3c7d20a555>:12: DtypeWarning: Columns (31,83,86,87,98,99,109,116,123,124,127,129,130,164) have mixed types. Specify dtype option on import or set low_memory=False.\n",
            "  multiple_choice_responses_df = pd.read_csv(multiple_choice_responses_path, encoding='ISO-8859-1')\n"
          ]
        }
      ]
    },
    {
      "cell_type": "markdown",
      "source": [
        "Check the contents"
      ],
      "metadata": {
        "id": "8OqVar6_J_oL"
      }
    },
    {
      "cell_type": "code",
      "source": [
        "print(respondent_type_readme_content)"
      ],
      "metadata": {
        "colab": {
          "base_uri": "https://localhost:8080/"
        },
        "id": "5vnCIsiFKEUc",
        "outputId": "2ec38d72-d0a6-4f55-d77b-1faf26e22c16"
      },
      "execution_count": null,
      "outputs": [
        {
          "output_type": "stream",
          "name": "stdout",
          "text": [
            "All: Every respondent was shown this question\n",
            "\n",
            "Non-worker: Respondents who indicated that they were \"Not employed, and not looking for work\" or \"I prefer not to say\"\n",
            "\n",
            "Non-switcher: Respondents that indicated that they were not actively looking to switch careers to data science.\n",
            "\n",
            "Worker: Respondents who indicted that they were \"Employed full-time\", \"Employed part-time\", \"Independent contractor, freelancer, or self-employed\", or \"retired\"\n",
            "\n",
            "CodingWorker: Respondents who indicated that they were \"Employed full-time\", \"Employed part-time\", or an \"Independent contractor, freelancer, or self-employed\" AND that they write code to analyze data in their current job\n",
            "\n",
            "CodingWorker-NC: Respondents who indicated that they were \"Employed full-time\" or \"Employed part-time\" AND that they write code to analyze data in their current job. \n",
            "\n",
            "Learners: Respondents who indicated that they were either students, formally or informally learning data science skills, planning to transition into data science, or not employed but looking for work\n"
          ]
        }
      ]
    },
    {
      "cell_type": "code",
      "source": [
        "print(conversion_rates_df.head())"
      ],
      "metadata": {
        "colab": {
          "base_uri": "https://localhost:8080/"
        },
        "id": "BESQc2-UKhK7",
        "outputId": "d17787d8-06b5-41ba-a477-17ebabe9ca58"
      },
      "execution_count": null,
      "outputs": [
        {
          "output_type": "stream",
          "name": "stdout",
          "text": [
            "   Unnamed: 0 originCountry  exchangeRate\n",
            "0           1           USD      1.000000\n",
            "1           2           EUR      1.195826\n",
            "2           3           INR      0.015620\n",
            "3           4           GBP      1.324188\n",
            "4           5           BRL      0.321350\n"
          ]
        }
      ]
    },
    {
      "cell_type": "code",
      "source": [
        "print(freeform_responses_df.head())"
      ],
      "metadata": {
        "colab": {
          "base_uri": "https://localhost:8080/"
        },
        "id": "JMtgbWYxKl39",
        "outputId": "98a7a8cc-f460-4849-a8be-367bea7d733b"
      },
      "execution_count": null,
      "outputs": [
        {
          "output_type": "stream",
          "name": "stdout",
          "text": [
            "  GenderFreeForm KaggleMotivationFreeForm CurrentJobTitleFreeForm  \\\n",
            "0            NaN                      NaN                     NaN   \n",
            "1            NaN                      NaN                     NaN   \n",
            "2            NaN                      NaN                 teacher   \n",
            "3            NaN                      NaN                     NaN   \n",
            "4            NaN                      NaN                     NaN   \n",
            "\n",
            "  MLToolNextYearFreeForm MLMethodNextYearFreeForm  \\\n",
            "0                    NaN                      NaN   \n",
            "1                    NaN                      NaN   \n",
            "2                    NaN                      NaN   \n",
            "3                    NaN                      NaN   \n",
            "4                    NaN                      NaN   \n",
            "\n",
            "  LanguageRecommendationFreeForm PublicDatasetsFreeForm  \\\n",
            "0                            NaN                    NaN   \n",
            "1                            NaN                    NaN   \n",
            "2                            NaN                    NaN   \n",
            "3                            NaN                    NaN   \n",
            "4                            NaN                    NaN   \n",
            "\n",
            "            PersonalProjectsChallengeFreeForm  \\\n",
            "0                           Data manipulation   \n",
            "1  I can't find time to practice consistently   \n",
            "2                                         NaN   \n",
            "3                    Connectivity/data fusion   \n",
            "4                                         NaN   \n",
            "\n",
            "  LearningPlatformCommunityFreeForm LearningPlatformFreeForm1  ...  \\\n",
            "0                               NaN                       NaN  ...   \n",
            "1                               NaN                       NaN  ...   \n",
            "2                               NaN                   Meetups  ...   \n",
            "3                               NaN                       NaN  ...   \n",
            "4                               NaN                       NaN  ...   \n",
            "\n",
            "  WorkMethodsFrequencySelect2FreeForm WorkMethodsFrequencySelect3FreeForm  \\\n",
            "0                                 NaN                                 NaN   \n",
            "1                                 NaN                                 NaN   \n",
            "2                                 NaN                                 NaN   \n",
            "3                                 NaN                                 NaN   \n",
            "4                                 NaN                                 NaN   \n",
            "\n",
            "   TimeOtherSelectFreeForm WorkChallengesFreeForm  \\\n",
            "0                      NaN                    NaN   \n",
            "1                      NaN                    NaN   \n",
            "2                      NaN                    NaN   \n",
            "3                      NaN                    NaN   \n",
            "4                      NaN                    NaN   \n",
            "\n",
            "   WorkChallengeFrequencyOtherFreeForm WorkMLTeamSeatFreeForm  \\\n",
            "0                                  NaN                    NaN   \n",
            "1                                  NaN                    NaN   \n",
            "2                                  NaN                    NaN   \n",
            "3                                  NaN                    NaN   \n",
            "4                                  NaN                    NaN   \n",
            "\n",
            "   WorkDataStorageFreeForm WorkCodeSharingFreeForm  SalaryChangeFreeForm  \\\n",
            "0                      NaN                     NaN                   NaN   \n",
            "1                      NaN                     NaN                   NaN   \n",
            "2                      NaN                     NaN                   NaN   \n",
            "3                      NaN                     NaN                   NaN   \n",
            "4                      NaN                     NaN                   NaN   \n",
            "\n",
            "  JobSearchResourceFreeForm  \n",
            "0                       NaN  \n",
            "1                       NaN  \n",
            "2                       NaN  \n",
            "3                       NaN  \n",
            "4                       NaN  \n",
            "\n",
            "[5 rows x 62 columns]\n"
          ]
        }
      ]
    },
    {
      "cell_type": "code",
      "source": [
        "print(multiple_choice_responses_df.head())"
      ],
      "metadata": {
        "colab": {
          "base_uri": "https://localhost:8080/"
        },
        "id": "P-37KM17K3P-",
        "outputId": "525d9384-25b9-4a09-8216-08da5959d8c0"
      },
      "execution_count": null,
      "outputs": [
        {
          "output_type": "stream",
          "name": "stdout",
          "text": [
            "                                        GenderSelect        Country   Age  \\\n",
            "0  Non-binary, genderqueer, or gender non-conforming            NaN   NaN   \n",
            "1                                             Female  United States  30.0   \n",
            "2                                               Male         Canada  28.0   \n",
            "3                                               Male  United States  56.0   \n",
            "4                                               Male         Taiwan  38.0   \n",
            "\n",
            "                                    EmploymentStatus StudentStatus  \\\n",
            "0                                 Employed full-time           NaN   \n",
            "1                 Not employed, but looking for work           NaN   \n",
            "2                 Not employed, but looking for work           NaN   \n",
            "3  Independent contractor, freelancer, or self-em...           NaN   \n",
            "4                                 Employed full-time           NaN   \n",
            "\n",
            "  LearningDataScience CodeWriter CareerSwitcher  \\\n",
            "0                 NaN        Yes            NaN   \n",
            "1                 NaN        NaN            NaN   \n",
            "2                 NaN        NaN            NaN   \n",
            "3                 NaN        Yes            NaN   \n",
            "4                 NaN        Yes            NaN   \n",
            "\n",
            "              CurrentJobTitleSelect TitleFit  ... JobFactorExperienceLevel  \\\n",
            "0             DBA/Database Engineer     Fine  ...                      NaN   \n",
            "1                               NaN      NaN  ...                      NaN   \n",
            "2                               NaN      NaN  ...           Very Important   \n",
            "3  Operations Research Practitioner   Poorly  ...                      NaN   \n",
            "4                Computer Scientist     Fine  ...                      NaN   \n",
            "\n",
            "  JobFactorDepartment  JobFactorTitle JobFactorCompanyFunding JobFactorImpact  \\\n",
            "0                 NaN             NaN                     NaN             NaN   \n",
            "1                 NaN             NaN                     NaN             NaN   \n",
            "2      Very Important  Very Important          Very Important  Very Important   \n",
            "3                 NaN             NaN                     NaN             NaN   \n",
            "4                 NaN             NaN                     NaN             NaN   \n",
            "\n",
            "  JobFactorRemote JobFactorIndustry JobFactorLeaderReputation  \\\n",
            "0             NaN               NaN                       NaN   \n",
            "1             NaN               NaN        Somewhat important   \n",
            "2  Very Important    Very Important            Very Important   \n",
            "3             NaN               NaN                       NaN   \n",
            "4             NaN               NaN                       NaN   \n",
            "\n",
            "  JobFactorDiversity JobFactorPublishingOpportunity  \n",
            "0                NaN                            NaN  \n",
            "1                NaN                            NaN  \n",
            "2     Very Important                 Very Important  \n",
            "3                NaN                            NaN  \n",
            "4                NaN                            NaN  \n",
            "\n",
            "[5 rows x 228 columns]\n"
          ]
        }
      ]
    },
    {
      "cell_type": "code",
      "source": [
        "print(schema_df.head())"
      ],
      "metadata": {
        "colab": {
          "base_uri": "https://localhost:8080/"
        },
        "id": "pxRkK025K7FC",
        "outputId": "ad0249f9-e53a-439d-f39f-a16a80e84f9b"
      },
      "execution_count": null,
      "outputs": [
        {
          "output_type": "stream",
          "name": "stdout",
          "text": [
            "             Column                                           Question Asked\n",
            "0      GenderSelect     Select your gender identity. - Selected Choice   All\n",
            "1    GenderFreeForm  Select your gender identity. - A different ide...   All\n",
            "2           Country          Select the country you currently live in.   All\n",
            "3               Age                                   What's your age?   All\n",
            "4  EmploymentStatus             What's your current employment status?   All\n"
          ]
        }
      ]
    },
    {
      "cell_type": "markdown",
      "source": [
        "### 2.a [5 pts] What is the probability that a respondent is currently employed as a Programmer given they use C/C++ at work?\n"
      ],
      "metadata": {
        "id": "YvpKnlW5I4wn"
      }
    },
    {
      "cell_type": "code",
      "source": [
        "# Find people that use C/C++ at work\n",
        "cpp_users_df = multiple_choice_responses_df[multiple_choice_responses_df['WorkToolsSelect'].str.contains('C/C\\+\\+', na=False)]\n",
        "\n",
        "# Find people who are programmers given that they use C/C++ at work\n",
        "programmers_given_cpp_df = cpp_users_df[cpp_users_df['CurrentJobTitleSelect'] == 'Programmer']\n",
        "\n",
        "# Calculate the rate\n",
        "programmer_given_cpp_rate = len(programmers_given_cpp_df) / len(cpp_users_df)\n",
        "\n",
        "print(f\"The probability that a respondent is currently employed as a Programmer given they use C/C++ at work is: {programmer_given_cpp_rate}\")"
      ],
      "metadata": {
        "colab": {
          "base_uri": "https://localhost:8080/"
        },
        "id": "D9gwGnJYI8fW",
        "outputId": "e9eb6ba3-1a50-40a4-c051-36b28c4b4561"
      },
      "execution_count": null,
      "outputs": [
        {
          "output_type": "stream",
          "name": "stdout",
          "text": [
            "The probability that a respondent is currently employed as a Programmer given they use C/C++ at work is: 0.02225130890052356\n"
          ]
        }
      ]
    },
    {
      "cell_type": "markdown",
      "source": [
        "### 2.b [5 pts] What is the probability that a respondent is a Data Scientist given they have majored in computer science, mathematics or statistics?"
      ],
      "metadata": {
        "id": "gWGcUlnINsFZ"
      }
    },
    {
      "cell_type": "code",
      "source": [
        "# Majors that we are interested in\n",
        "majors = [\"Computer Science\", \"Mathematics or statistics\"]\n",
        "\n",
        "# Find people who majored in Comp. Sci., Mathematics, or statistics\n",
        "cs_math_stat_majors_df = multiple_choice_responses_df[multiple_choice_responses_df['MajorSelect'].isin(majors)]\n",
        "\n",
        "# Find people whose title is \"Data Scientist\" given that they majored in Comp. Sci., Mathematics, or statistics\n",
        "data_scientists_df = cs_math_stat_majors_df[cs_math_stat_majors_df['CurrentJobTitleSelect'] == 'Data Scientist']\n",
        "\n",
        "# Calculate the rate\n",
        "data_scientist_rate = len(data_scientists_df) / len(cs_math_stat_majors_df)\n",
        "\n",
        "print(f\"The probability that a respondent is a Data Scientist given they have majored in computer science, mathematics or statistics is: {data_scientist_rate}\")"
      ],
      "metadata": {
        "colab": {
          "base_uri": "https://localhost:8080/"
        },
        "id": "qbsZwWePNwcB",
        "outputId": "fb9eada6-8e8c-437c-f14c-8441a165e3dd"
      },
      "execution_count": null,
      "outputs": [
        {
          "output_type": "stream",
          "name": "stdout",
          "text": [
            "The probability that a respondent is a Data Scientist given they have majored in computer science, mathematics or statistics is: 0.1597400634728729\n"
          ]
        }
      ]
    },
    {
      "cell_type": "markdown",
      "source": [
        "### 2.c [10 pts] What is the probability that a respondent works in the Technology industry given that they earn more than 40,000 USD annually?"
      ],
      "metadata": {
        "id": "NpPyBrCnQ0W3"
      }
    },
    {
      "cell_type": "code",
      "source": [
        "# Merge \"multiple_choice_responses_df\" with \"conversion_rate_df\" to directly access the exchange rate for each respondent\n",
        "merged_df = pd.merge(multiple_choice_responses_df, conversion_rates_df, left_on='CompensationCurrency', right_on='originCountry', how='left')\n",
        "\n",
        "# Iterate over rows in the merged_df\n",
        "for index, row in merged_df.iterrows():\n",
        "\n",
        "    # Check if \"CompensationAmount\" is not null\n",
        "    if pd.notnull(row['CompensationAmount']):\n",
        "\n",
        "        # Convert \"CompensationAmount\" to a numeric value, set non-numeric entries as NaN\n",
        "        compensation = pd.to_numeric(row['CompensationAmount'], errors='coerce')\n",
        "\n",
        "        # Check if conversion to numeric was successful and is not NaN\n",
        "        if pd.notnull(compensation):\n",
        "            try:\n",
        "                # Multiply compensation by the exchange rate and store it in \"CompensationInUSD\"\n",
        "                merged_df.at[index, \"CompensationInUSD\"] = compensation * row[\"exchangeRate\"]\n",
        "\n",
        "            except ValueError:\n",
        "                # If an error occurs set that value to NaN\n",
        "                merged_df.at[index, \"CompensationInUSD\"] = np.nan\n",
        "    else:\n",
        "        # If \"CompensationAmount\" is null, set \"CompensationInUSD\" to NaN\n",
        "        merged_df.at[index, \"CompensationInUSD\"] = np.nan\n",
        "\n",
        "# Filter for respondents earning more than 40K USD and in the Technology industry\n",
        "earn_more_than_40k_df = merged_df[merged_df[\"CompensationInUSD\"] > 40000]\n",
        "tech_given_40k_usd_df = earn_more_than_40k_df[earn_more_than_40k_df[\"EmployerIndustry\"] == \"Technology\"]\n",
        "\n",
        "# Calculate the rate\n",
        "earn_more_than_40k_rate = len(tech_given_40k_usd_df) / len(earn_more_than_40k_df)\n",
        "\n",
        "print(f\"The probability that a respondent works in the Technology industry given that they earn more than 40,000 USD annually is: {earn_more_than_40k_rate}\")"
      ],
      "metadata": {
        "colab": {
          "base_uri": "https://localhost:8080/"
        },
        "id": "p1lAPrarQ4gb",
        "outputId": "4ba112cb-0458-4f66-bf75-141265fe45bc"
      },
      "execution_count": null,
      "outputs": [
        {
          "output_type": "stream",
          "name": "stdout",
          "text": [
            "The probability that a respondent works in the Technology industry given that they earn more than 40,000 USD annually is: 0.1963162623539982\n"
          ]
        }
      ]
    },
    {
      "cell_type": "markdown",
      "source": [
        "### 2.d [5 pts] What is the joint probability of a respondent being over 30 years old and having a at least a Bachelor’s degree?"
      ],
      "metadata": {
        "id": "zd9iE94GV91K"
      }
    },
    {
      "cell_type": "code",
      "source": [
        "# Degrees that are at least Bachelor's level\n",
        "degrees = [\"Bachelor's degree\", \"Master's degree\", \"Doctoral degree\", \"Professional degree\"]\n",
        "\n",
        "# Ensure the column \"Age\" is numeric\n",
        "multiple_choice_responses_df['Age'] = pd.to_numeric(multiple_choice_responses_df['Age'], errors='coerce')\n",
        "\n",
        "# Find people that are over 30 and have at least Bachelor's level degree at the same time\n",
        "over_30_and_has_degree_df = multiple_choice_responses_df[\n",
        "    (multiple_choice_responses_df['FormalEducation'].isin(degrees)) &\n",
        "    (multiple_choice_responses_df['Age'] > 30)]\n",
        "\n",
        "# Calculate the joint probability\n",
        "over_30_and_has_degree_jp = len(over_30_and_has_degree_df) / len(multiple_choice_responses_df)\n",
        "\n",
        "print(f\"The joint probability of a respondent being over 30 years old and having a at least a Bachelor’s degree is: {over_30_and_has_degree_jp}\")"
      ],
      "metadata": {
        "colab": {
          "base_uri": "https://localhost:8080/"
        },
        "id": "PKqOmedLWArZ",
        "outputId": "0565309d-2ce2-4552-c216-f00f8195ddbd"
      },
      "execution_count": null,
      "outputs": [
        {
          "output_type": "stream",
          "name": "stdout",
          "text": [
            "The joint probability of a respondent being over 30 years old and having a at least a Bachelor’s degree is: 0.38687485044268966\n"
          ]
        }
      ]
    },
    {
      "cell_type": "markdown",
      "source": [
        "### 2.e [5 pts] What is the probability that a respondent is a Data Scientist who majored in Computer Science, Mathematics or statistics?\n"
      ],
      "metadata": {
        "id": "SpIfRlB-ZZs4"
      }
    },
    {
      "cell_type": "code",
      "source": [
        "# Majors that we are interested in\n",
        "majors = [\"Computer Science\", \"Mathematics or statistics\"]\n",
        "\n",
        "# Find people who majored in Comp. Sci. or Mathematics or Statistics and with current job title of Data Scientist at the same time\n",
        "data_scientist_majored_in_cs_math_stat_df = multiple_choice_responses_df[\n",
        "    (multiple_choice_responses_df['MajorSelect'].isin(majors)) &\n",
        "    (multiple_choice_responses_df['CurrentJobTitleSelect'] ==  'Data Scientist')]\n",
        "\n",
        "# Calculate the joint probability\n",
        "data_scientist_majored_in_cs_math_stat_jp = len(data_scientist_majored_in_cs_math_stat_df) / len(multiple_choice_responses_df)\n",
        "\n",
        "print(f\"The probability that a respondent is a Data Scientist who majored in Computer Science, Mathematics or statistics is: {data_scientist_majored_in_cs_math_stat_jp}\")"
      ],
      "metadata": {
        "colab": {
          "base_uri": "https://localhost:8080/"
        },
        "id": "DnwK30CUZi08",
        "outputId": "2e5fe8b7-3df4-4d71-8ecf-29d6f58f6adf"
      },
      "execution_count": null,
      "outputs": [
        {
          "output_type": "stream",
          "name": "stdout",
          "text": [
            "The probability that a respondent is a Data Scientist who majored in Computer Science, Mathematics or statistics is: 0.06323283082077052\n"
          ]
        }
      ]
    },
    {
      "cell_type": "markdown",
      "source": [
        "### 2.f [5 pts] What is the joint probability that a respondent is from France, earns less than 100,000 USD annually, and uses Cross-Validation Often or Most of the time?"
      ],
      "metadata": {
        "id": "QscyMDxWawU2"
      }
    },
    {
      "cell_type": "code",
      "source": [
        "# Frequencies we are interested in\n",
        "frequency = ['Often', 'Most of the time']\n",
        "\n",
        "# Filter people who fit in criteria\n",
        "filtered_respondents = merged_df[(merged_df['Country'] == 'France') &\n",
        "                                 (merged_df['CompensationInUSD'] < 100000) &\n",
        "                                 (merged_df['WorkMethodsFrequencyCross-Validation'].isin(frequency))]\n",
        "\n",
        "# Joint probability\n",
        "joint_probability = len(filtered_respondents) / len(merged_df)\n",
        "print(f\"Joint probability that a respondent is from France, earns less than 100,000 USD annually, and uses Cross-Validation Often or Most of the time is: {joint_probability}\")"
      ],
      "metadata": {
        "colab": {
          "base_uri": "https://localhost:8080/"
        },
        "id": "BNPo5NUtazOA",
        "outputId": "2b169890-1324-49b3-863a-f9ba50e9e9e1"
      },
      "execution_count": null,
      "outputs": [
        {
          "output_type": "stream",
          "name": "stdout",
          "text": [
            "Joint probability that a respondent is from France, earns less than 100,000 USD annually, and uses Cross-Validation Often or Most of the time is: 0.0036491983728164632\n"
          ]
        }
      ]
    },
    {
      "cell_type": "markdown",
      "source": [
        "### 2.g [10 pts] What is the probability that a respondent uses C/C++ at work given that they are employed as a Programmer? (Hint: Use your findings from Question 2a)."
      ],
      "metadata": {
        "id": "8NOdqV_Xazj4"
      }
    },
    {
      "cell_type": "markdown",
      "source": [
        "Using Bayes' Thorem, we can say that:\n",
        "\n",
        "P(Use C/C++ = Yes | Title = Programmer) = P(Title = Programmer | Use C/C++ = Yes) * P(Use C/C++ = Yes) / P(Title = Programmer)"
      ],
      "metadata": {
        "id": "bclkJwgYiLae"
      }
    },
    {
      "cell_type": "code",
      "source": [
        "# Find rate of C/C++ users\n",
        "cpp_users_rate = len(cpp_users_df) / len(multiple_choice_responses_df)\n",
        "\n",
        "# Find programmers\n",
        "programmer_df = multiple_choice_responses_df[multiple_choice_responses_df['CurrentJobTitleSelect'] == 'Programmer']\n",
        "\n",
        "# Find programmer rate\n",
        "programmer_rate = len(programmer_df) / len(multiple_choice_responses_df)\n",
        "\n",
        "# Calculate probability that a respondent uses C/C++ at work given that they are employed as a programmer using Bayes' Theorem\n",
        "cpp_given_programmer_rate = (programmer_given_cpp_rate * cpp_users_rate) / programmer_rate\n",
        "\n",
        "\n",
        "print(f\"The probability that a respondent uses C/C++ at work given that they are employed as a programmer: {cpp_given_programmer_rate}\")"
      ],
      "metadata": {
        "colab": {
          "base_uri": "https://localhost:8080/"
        },
        "id": "an1FXE3qa3Ag",
        "outputId": "4b139727-f995-4be0-eee4-fa65e97fd900"
      },
      "execution_count": null,
      "outputs": [
        {
          "output_type": "stream",
          "name": "stdout",
          "text": [
            "The probability that a respondent uses C/C++ at work given that they are employed as a programmer: 0.07359307359307359\n"
          ]
        }
      ]
    },
    {
      "cell_type": "markdown",
      "source": [
        "### 2.h [15 pts] Given the probability of a respondent wearing glasses is 0.15, and the probability of a respondent wearing glasses given they have a PhD is 0.25, find the probability of a respondent having a PhD given that they wear glasses."
      ],
      "metadata": {
        "id": "KhOnMG9aa3fw"
      }
    },
    {
      "cell_type": "markdown",
      "source": [
        "P(Glasses = Yes) = 0.15\n",
        "\n",
        "P(Glasses = Yes | PhD = Yes) = 0.25\n",
        "\n",
        "P(PhD = Yes | Glasses = Yes) = ?\n",
        "\n",
        "Using Bayes' Theorem, we can say that:\n",
        "\n",
        "P(PhD = Yes | Glasses = Yes) = P(Glasses = Yes | PhD = Yes) * P(Glasses = Yes) / P(PhD = Yes)\n"
      ],
      "metadata": {
        "id": "Pf3HF9Tlj3Xc"
      }
    },
    {
      "cell_type": "code",
      "source": [
        "# P(Glasses = Yes) = 0.15\n",
        "wear_glasses_rate = 0.15\n",
        "\n",
        "# P(Glasses = Yes | PhD = Yes) = 0.25\n",
        "wear_glasses_given_phd_rate = 0.25\n",
        "\n",
        "# P(PhD = Yes)\n",
        "phd_df = multiple_choice_responses_df[multiple_choice_responses_df['FormalEducation'] == 'Doctoral degree']\n",
        "phd_rate = len(phd_df) / len(multiple_choice_responses_df)\n",
        "\n",
        "# P(PhD = Yes | Glasses = Yes) = P(Glasses = Yes | PhD = Yes) * P(Glasses = Yes) / P(PhD = Yes)\n",
        "phd_given_wear_glasses_rate = (wear_glasses_given_phd_rate * phd_rate) / wear_glasses_rate\n",
        "\n",
        "print(f\"The probability of a respondent having a PhD given that they wear glasses: {phd_given_wear_glasses_rate}\")"
      ],
      "metadata": {
        "colab": {
          "base_uri": "https://localhost:8080/"
        },
        "id": "VqgnSpXGkjKl",
        "outputId": "74670215-861e-4161-a5ac-7c4a7fe7fcba"
      },
      "execution_count": null,
      "outputs": [
        {
          "output_type": "stream",
          "name": "stdout",
          "text": [
            "The probability of a respondent having a PhD given that they wear glasses: 0.23400733827869508\n"
          ]
        }
      ]
    }
  ]
}
