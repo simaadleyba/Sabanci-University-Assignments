{
  "nbformat": 4,
  "nbformat_minor": 0,
  "metadata": {
    "colab": {
      "provenance": [],
      "toc_visible": true,
      "authorship_tag": "ABX9TyOlqCKVEtXdJ9KsHkAz82u1",
      "include_colab_link": true
    },
    "kernelspec": {
      "name": "python3",
      "display_name": "Python 3"
    },
    "language_info": {
      "name": "python"
    }
  },
  "cells": [
    {
      "cell_type": "markdown",
      "metadata": {
        "id": "view-in-github",
        "colab_type": "text"
      },
      "source": [
        "<a href=\"https://colab.research.google.com/github/simaadleyba/CS412-Spring-23-24/blob/main/CS412_HW3_SimaAdleyba.ipynb\" target=\"_parent\"><img src=\"https://colab.research.google.com/assets/colab-badge.svg\" alt=\"Open In Colab\"/></a>"
      ]
    },
    {
      "cell_type": "markdown",
      "source": [
        "# Implementing Logistic Regression"
      ],
      "metadata": {
        "id": "pglFliJg2gvE"
      }
    },
    {
      "cell_type": "code",
      "source": [
        "from google.colab import drive\n",
        "drive.mount('/content/drive')"
      ],
      "metadata": {
        "id": "uUhaCS-nII6s"
      },
      "execution_count": null,
      "outputs": []
    },
    {
      "cell_type": "markdown",
      "source": [
        "In this homework, you are required to implement logistic regression using gradient descent from scratch. The goal is to solidify your understanding of the logistic regression model and the gradient descent optimization algorithm within the context of a binary classification task.\n",
        "You will use a preprocessed version of the Titanic dataset, which contains data about Titanic passengers. You will predict if a passenger survived or not based on his/her age, sex and passenger class. In the sex column, 1 shows the passenger is female and 2 shows that the passenger is male.\n"
      ],
      "metadata": {
        "id": "ZNhAE-MX8i-7"
      }
    },
    {
      "cell_type": "markdown",
      "source": [
        "## 1. Load the dataset and preprocess the data:\n",
        "*   Set your random seed to 42.\n",
        "*   Split the data into training, validation and test sets (60% , 20% , 20% ).\n",
        "*   As the data ranges vary significantly across the feature dimensions, you should scale your features. Scale them linearly within the 0-1 range. Be careful not to include the test data when scaling. You can use StandartScaler for that.\n"
      ],
      "metadata": {
        "id": "uaDOIr4h2kKX"
      }
    },
    {
      "cell_type": "markdown",
      "source": [
        "### Import statements and loading data"
      ],
      "metadata": {
        "id": "LxE2veCP3wHz"
      }
    },
    {
      "cell_type": "code",
      "execution_count": null,
      "metadata": {
        "id": "A-g7uvPZ2G8B"
      },
      "outputs": [],
      "source": [
        "# Import necessary libraries\n",
        "import numpy as np\n",
        "import pandas as pd\n",
        "import matplotlib.pyplot as plt\n",
        "from sklearn.model_selection import train_test_split\n",
        "from sklearn.metrics import accuracy_score\n",
        "from sklearn.linear_model import LogisticRegression\n",
        "from sklearn.preprocessing import MinMaxScaler, StandardScaler\n",
        "\n",
        "# Load the data\n",
        "titanic_data_path = \"/content/titanicdata.csv\"\n",
        "titanic_data = pd.read_csv(titanic_data_path)"
      ]
    },
    {
      "cell_type": "markdown",
      "source": [
        "### Preprocess data\n"
      ],
      "metadata": {
        "id": "Cc_CqLwf43eA"
      }
    },
    {
      "cell_type": "code",
      "source": [
        "# Drop target column\n",
        "X = titanic_data.drop('Survived', axis=1)\n",
        "\n",
        "# Set the target/output variable\n",
        "y = titanic_data['Survived']\n",
        "\n",
        "# Ensure that y is a numpy array to avoid possible future errors\n",
        "y = y.to_numpy()\n",
        "\n",
        "# Set random state to 42\n",
        "# Split the data into training, validation and test sets (60% , 20% , 20% )\n",
        "X_temp, X_test, y_temp, y_test = train_test_split(X, y, test_size = 0.2, shuffle = True, random_state=42)\n",
        "X_train, X_val, y_train, y_val = train_test_split(X_temp, y_temp, test_size=0.25, shuffle = True, random_state=42)\n",
        "\n",
        "# Initialize the scaler and scale the data\n",
        "scaler = StandardScaler()\n",
        "\n",
        "X_train_scaled = scaler.fit_transform(X_train)\n",
        "X_val_scaled = scaler.transform(X_val)"
      ],
      "metadata": {
        "id": "h037Oval48z-"
      },
      "execution_count": null,
      "outputs": []
    },
    {
      "cell_type": "markdown",
      "source": [
        "## 2. Implement the logistic regression model\n",
        "\n",
        "\n",
        "*   Initialize the model parameters w.\n",
        "*   Implement the sigmoid function.\n",
        "*   Implement the cost function.\n",
        "*   Implement the gradient descent algorithm to minimize the cost function, updating the parameters as w\n",
        "\n",
        "\n",
        "\n",
        "\n",
        "\n"
      ],
      "metadata": {
        "id": "CjV-jwOdEavB"
      }
    },
    {
      "cell_type": "code",
      "source": [
        "# Implement the sigmoid function.\n",
        "def sigmoid(z):\n",
        "    return 1 / (1 + np.exp(-z))\n",
        "\n",
        "\n",
        "\n",
        "def compute_cost(X, y, w, b):\n",
        "\n",
        "    # Get the shapes\n",
        "    m, n = X.shape\n",
        "\n",
        "    # Set total loss to 0\n",
        "    loss_sum = 0\n",
        "\n",
        "    # Loop over each training example\n",
        "    for i in range(m):\n",
        "\n",
        "        # Set sum to 0\n",
        "        sum_of_feature_products = 0\n",
        "\n",
        "        # Loop over each feature\n",
        "        for j in range(n):\n",
        "\n",
        "            # Calculate the linear combination\n",
        "            sum_of_feature_products += w[j] * X[i, j]\n",
        "\n",
        "        # Add bias\n",
        "        sum_of_feature_products += b\n",
        "\n",
        "        # Convert to probability using sigmoid\n",
        "        f_wb = sigmoid(sum_of_feature_products)\n",
        "\n",
        "        # Calculate logistic regression loss for each example\n",
        "        loss = -y[i] * np.log(f_wb) - (1 - y[i]) * np.log(1 - f_wb)\n",
        "        loss_sum += loss\n",
        "\n",
        "    # Find the average\n",
        "    total_cost = (1 / m) * loss_sum\n",
        "\n",
        "    return total_cost\n",
        "\n",
        "\n",
        "\n",
        "def compute_gradient(X, y, w, b):\n",
        "\n",
        "    # Get the shapes\n",
        "    m, n = X.shape\n",
        "\n",
        "    # Set gradients to 0\n",
        "    gradient_wrt_w = np.zeros(w.shape)\n",
        "    gradient_wrt_b = 0\n",
        "\n",
        "    # For each training eaxmple\n",
        "    for i in range(m):\n",
        "\n",
        "        # Set sum to 0\n",
        "        sum_of_feature_products = 0\n",
        "\n",
        "        # Loop over each feature\n",
        "        for j in range(n):\n",
        "\n",
        "            # Add the corresponding term to sum_of_feature_products\n",
        "            sum_of_feature_products += w[j] * X[i, j]\n",
        "\n",
        "        # Add bias\n",
        "        sum_of_feature_products += b\n",
        "\n",
        "        # Convert to probability using sigmoid\n",
        "        f_wb = sigmoid(sum_of_feature_products)\n",
        "\n",
        "        # Calculate the gradient\n",
        "        gradient_wrt_b += f_wb - y[i]\n",
        "\n",
        "        # Get gradient_wrt_w  for each attribute\n",
        "        for j in range(n):\n",
        "\n",
        "            # Calculate the gradient for corresponding example/feature pair\n",
        "            gradient_wrt_w[j] += (f_wb - y[i]) * X[i][j]\n",
        "\n",
        "    # Divide gradient_wrt_w and gradient_wrt_b by total number of examples\n",
        "    gradient_wrt_w = gradient_wrt_w / m\n",
        "    gradient_wrt_b = gradient_wrt_b / m\n",
        "\n",
        "    return gradient_wrt_b, gradient_wrt_w\n",
        "\n",
        "\n",
        "\n",
        "def gradient_descent(X_train, y_train, X_val, y_val, w, b, cost_function, gradient_function, step_size, iterations):\n",
        "\n",
        "    # Number of training examples\n",
        "    m = X_train.shape[0]\n",
        "\n",
        "    # Arrays to store cost for graphing later\n",
        "    training_losses = []\n",
        "    validation_losses = []\n",
        "\n",
        "    # Loop over iterations times\n",
        "    for i in range(iterations):\n",
        "\n",
        "        # Calculate the gradient and update the parameters\n",
        "        gradient_wrt_b, gradient_wrt_w = gradient_function(X_train, y_train, w, b)\n",
        "\n",
        "        # Update parameters\n",
        "        w -= step_size * gradient_wrt_w\n",
        "        b -= step_size * gradient_wrt_b\n",
        "\n",
        "        # Save the cost for training and validation\n",
        "        training_loss = cost_function(X_train, y_train, w, b)\n",
        "        training_losses.append(training_loss)\n",
        "\n",
        "        # Compute validation loss too if needed\n",
        "        if X_val is not None and y_val is not None:\n",
        "            val_loss = cost_function(X_val, y_val, w, b)\n",
        "            validation_losses.append(val_loss)\n",
        "\n",
        "    return w, b, training_losses, validation_losses"
      ],
      "metadata": {
        "id": "ti-_7REBJSEv"
      },
      "execution_count": null,
      "outputs": []
    },
    {
      "cell_type": "markdown",
      "source": [
        "## 3. Set the step size to 0.1. Train your model using the training data. Calculate the loss on the validation data. Plot both the training and validation losses across 100 iterations."
      ],
      "metadata": {
        "id": "rk8qfjuUP5lA"
      }
    },
    {
      "cell_type": "code",
      "source": [
        "# Set random seed to 42\n",
        "np.random.seed(42)\n",
        "\n",
        "# Set initial values of weight and bias\n",
        "w_initial = np.zeros(X_train_scaled.shape[1])\n",
        "b_initial = 0.\n",
        "\n",
        "# Set itarations to 100 and step size to 0.1\n",
        "iterations = 100\n",
        "step_size = 0.1\n",
        "\n",
        "# Run gradient descent\n",
        "w, b, training_losses, validation_losses = gradient_descent(\n",
        "  X_train_scaled, y_train, X_val_scaled, y_val, w_initial, b_initial,\n",
        "  compute_cost, compute_gradient, step_size, iterations\n",
        ")\n",
        "\n",
        "# Plot training and validation loss\n",
        "plt.plot(training_losses, label = 'Training Loss')\n",
        "plt.plot(validation_losses, label = 'Validation Loss')\n",
        "plt.title('Training and Validation Loss Across 100 Iterations')\n",
        "plt.xlabel('Iteration')\n",
        "plt.ylabel('Loss')\n",
        "plt.legend()\n",
        "plt.show()"
      ],
      "metadata": {
        "colab": {
          "base_uri": "https://localhost:8080/",
          "height": 472
        },
        "id": "Zo4XUE0EPsi4",
        "outputId": "ee7a4143-06b2-4f7c-cdb1-14752e7d3086"
      },
      "execution_count": null,
      "outputs": [
        {
          "output_type": "display_data",
          "data": {
            "text/plain": [
              "<Figure size 640x480 with 1 Axes>"
            ],
            "image/png": "[encoded data removed]"
          },
          "metadata": {}
        }
      ]
    },
    {
      "cell_type": "markdown",
      "source": [
        "## 4. Now vary your step size and number of iterations, and calculate the validation loss in each case. Pick the one that gives you the best loss. Plot the loss curve across different iterations for the chosen values of these hyperparameters.\n",
        "\n"
      ],
      "metadata": {
        "id": "mHkjPYp5QE83"
      }
    },
    {
      "cell_type": "code",
      "source": [
        "# Set step sizes\n",
        "step_sizes = [0.01, 0.05, 0.1, 0.2]\n",
        "\n",
        "# Set number of iterations\n",
        "iterations_list = [50, 100, 250, 500, 1000]\n",
        "\n",
        "# Set the best loss to a high number as we'll get a smaller number\n",
        "best_loss = float('inf')\n",
        "\n",
        "# We don't have a best step size yet\n",
        "best_step_size = None\n",
        "\n",
        "# We don't have a best # of iterations yet\n",
        "best_iterations = None\n",
        "\n",
        "# A dictionary to store information of combinations\n",
        "loss_history = {}\n",
        "\n",
        "# Loop over each step size\n",
        "for step_size in step_sizes:\n",
        "\n",
        "    # Loop over each # of iterations\n",
        "    for iterations in iterations_list:\n",
        "\n",
        "        # Initialize weights and bias\n",
        "        np.random.seed(42)\n",
        "        w_initial = np.zeros(X_train_scaled.shape[1])\n",
        "        b_initial = 0\n",
        "\n",
        "        # Run gradient descent\n",
        "        w, b, training_losses, validation_losses = gradient_descent(\n",
        "          X_train_scaled, y_train, X_val_scaled, y_val, w_initial, b_initial,\n",
        "          compute_cost, compute_gradient, step_size, iterations\n",
        "        )\n",
        "\n",
        "        # Track loss history\n",
        "        loss_history[(step_size, iterations)] = validation_losses\n",
        "\n",
        "        # Get the last validation loss from the list for current combination\n",
        "        current_validation_loss = validation_losses[-1]\n",
        "\n",
        "        # Update best parameters if current loss is lower than the lowest we had before\n",
        "        if current_validation_loss < best_loss:\n",
        "            best_loss = current_validation_loss\n",
        "            best_step_size = step_size\n",
        "            best_iterations = iterations\n",
        "\n",
        "# Print the results\n",
        "print(f\"Best Step Size: {best_step_size}\\nBest Iterations: {best_iterations}\\nBest Validation Loss: {best_loss}\")\n",
        "\n",
        "# Plot the best loss history\n",
        "best_loss_history = loss_history[(best_step_size, best_iterations)]\n",
        "plt.plot(best_loss_history)\n",
        "plt.title(f'Validation Loss Curve for Best Parameters')\n",
        "plt.xlabel('Iteration Number')\n",
        "plt.ylabel('Validation Loss')\n",
        "plt.legend()\n",
        "plt.show()"
      ],
      "metadata": {
        "id": "qmqfy7Q1PveB",
        "colab": {
          "base_uri": "https://localhost:8080/",
          "height": 523
        },
        "outputId": "f00137ce-fb18-4321-fbad-83cab1821e3d"
      },
      "execution_count": null,
      "outputs": [
        {
          "output_type": "stream",
          "name": "stdout",
          "text": [
            "Best Step Size: 0.1\n",
            "Best Iterations: 250\n",
            "Best Validation Loss: 0.4553290605730902\n"
          ]
        },
        {
          "output_type": "display_data",
          "data": {
            "text/plain": [
              "<Figure size 640x480 with 1 Axes>"
            ],
            "image/png": "[encoded data removed]"
          },
          "metadata": {}
        }
      ]
    },
    {
      "cell_type": "markdown",
      "source": [
        "## 5. Combine the validation and training data and retrain the final model with the chosen hyperparameters."
      ],
      "metadata": {
        "id": "LsQv3FgEQOzT"
      }
    },
    {
      "cell_type": "code",
      "source": [
        "# Combine training and validation data\n",
        "X_combined = np.concatenate((X_train_scaled, X_val_scaled), axis=0)\n",
        "y_combined = np.concatenate((y_train, y_val), axis=0)\n",
        "\n",
        "# Set step size, # of iterations, weights and bias\n",
        "step_size = best_step_size\n",
        "iterations = best_iterations\n",
        "w_final = np.zeros(X_train_scaled.shape[1])\n",
        "b_final = b\n",
        "\n",
        "# Run gradient descent\n",
        "w_final, b_final, final_losses, _ = gradient_descent(\n",
        "    X_combined, y_combined, None, None, w_final, b_final,\n",
        "    compute_cost, compute_gradient, best_step_size, best_iterations\n",
        ")"
      ],
      "metadata": {
        "id": "32AhtzphQRNh"
      },
      "execution_count": null,
      "outputs": []
    },
    {
      "cell_type": "markdown",
      "source": [
        "## 6. Evaluate the accuracy of your model on the testing data and report the results."
      ],
      "metadata": {
        "id": "JRZm4bv6QRlt"
      }
    },
    {
      "cell_type": "code",
      "source": [
        "def predict(X, w, b):\n",
        "\n",
        "    # Set number of examples\n",
        "    m, n = X.shape\n",
        "\n",
        "    # Initialize predictions\n",
        "    p = np.zeros(m)\n",
        "\n",
        "    # Loop over each example\n",
        "    for i in range(m):\n",
        "        sum_of_feature_products = 0\n",
        "\n",
        "        # Loop over each feature\n",
        "        for j in range(n):\n",
        "\n",
        "            # Calculate the linear combination\n",
        "            sum_of_feature_products += w[j] * X[i, j]\n",
        "\n",
        "        # Add bias\n",
        "        sum_of_feature_products += b\n",
        "\n",
        "        # Calculate the probability using sigmoid function\n",
        "        prob = sigmoid(sum_of_feature_products)\n",
        "\n",
        "        # Convert probability to 0 or 1 based on threshold\n",
        "        p[i] = int(prob >= 0.5)\n",
        "\n",
        "    return p\n",
        "\n",
        "# Scale the test data\n",
        "X_test_scaled = scaler.transform(X_test)\n",
        "\n",
        "# Make predictions\n",
        "predictions = predict(X_test_scaled, w_final, b_final)\n",
        "\n",
        "# Calculate accuracy\n",
        "accuracy = np.mean(predictions == y_test) * 100\n",
        "print(f\"Accuracy of the logistic regression model on the test data is: {accuracy:.2f}%\")"
      ],
      "metadata": {
        "colab": {
          "base_uri": "https://localhost:8080/"
        },
        "id": "7FfOIU8uQvTY",
        "outputId": "50f196f1-b595-406b-bb53-3b0e3fa9c6fa"
      },
      "execution_count": null,
      "outputs": [
        {
          "output_type": "stream",
          "name": "stdout",
          "text": [
            "Accuracy of the logistic regression model on the test data is: 79.89%\n"
          ]
        }
      ]
    }
  ]
}
