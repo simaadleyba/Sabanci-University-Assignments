{
 "cells": [
  {
   "cell_type": "markdown",
   "source": [
    "# CS411-507 HW1 - Sima Adleyba - 28889\n",
    "\n",
    "## Question 1\n",
    "\n",
    "(15 pts) Consider the shift cipher. Show that the ciphertext “NKWZ” can be decrypted into two meaningful English words. Find those words and the corresponding encryption keys."
   ],
   "metadata": {
    "collapsed": false
   },
   "id": "7ee2e043e9607112"
  },
  {
   "cell_type": "code",
   "execution_count": null,
   "id": "initial_id",
   "metadata": {
    "collapsed": true,
    "is_executing": true,
    "ExecuteTime": {
     "start_time": "2024-10-22T15:32:40.209803Z"
    }
   },
   "outputs": [
    {
     "name": "stderr",
     "output_type": "stream",
     "text": [
      "2024-10-22 18:32:40.696 Python[2740:110311] +[IMKClient subclass]: chose IMKClient_Legacy\n",
      "2024-10-22 18:32:40.696 Python[2740:110311] +[IMKInputSession subclass]: chose IMKInputSession_Legacy\n"
     ]
    }
   ],
   "source": [
    "from hw01_helper import uppercase, inv_uppercase\n",
    "\n",
    "import nltk\n",
    "import ssl\n",
    "\n",
    "try:\n",
    "    _create_default_https_context = ssl._create_default_https_context\n",
    "    ssl._create_default_https_context = ssl._create_unverified_context\n",
    "    nltk.download()  # This will open the NLTK downloader\n",
    "finally:\n",
    "    ssl._create_default_https_context = _create_default_https_context\n",
    "\n",
    "nltk.download('words')\n",
    "from nltk.corpus import words\n",
    "\n",
    "ciphertext = \"NKWZ\"\n",
    "\n",
    "plaintexts = []\n",
    "for i in range(1, 26):\n",
    "    \n",
    "    possible_plaintext = \"\"\n",
    "    \n",
    "    for letter in ciphertext:\n",
    "        corresponding_value = uppercase[letter]\n",
    "        corresponding_value = (corresponding_value + 1) % 26\n",
    "        new_letter = inv_uppercase[corresponding_value]\n",
    "        possible_plaintext += new_letter\n",
    "        \n",
    "    if possible_plaintext in words.words():\n",
    "        plaintexts.append(possible_plaintext)"
   ]
  },
  {
   "cell_type": "code",
   "execution_count": null,
   "outputs": [],
   "source": [],
   "metadata": {
    "collapsed": false
   },
   "id": "36616eb8b7afed00"
  }
 ],
 "metadata": {
  "kernelspec": {
   "display_name": "Python 3",
   "language": "python",
   "name": "python3"
  },
  "language_info": {
   "codemirror_mode": {
    "name": "ipython",
    "version": 2
   },
   "file_extension": ".py",
   "mimetype": "text/x-python",
   "name": "python",
   "nbconvert_exporter": "python",
   "pygments_lexer": "ipython2",
   "version": "2.7.6"
  }
 },
 "nbformat": 4,
 "nbformat_minor": 5
}
